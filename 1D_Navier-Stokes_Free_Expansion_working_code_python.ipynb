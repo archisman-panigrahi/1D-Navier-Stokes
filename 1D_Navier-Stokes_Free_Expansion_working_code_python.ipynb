{
 "cells": [
  {
   "cell_type": "code",
   "execution_count": null,
   "id": "5cfa18a9",
   "metadata": {},
   "outputs": [],
   "source": [
    "### This code solves compressible 1D Navier-Stokes equation when the gas is initially confined in some region\n",
    "### And is allowed to expand into vaccum from both sides\n",
    "\n",
    "\n",
    "### Author: Archisman Panigrahi (archi137@mit.edu)\n",
    "### License: MIT License"
   ]
  },
  {
   "cell_type": "code",
   "execution_count": 23,
   "id": "dc2de26d",
   "metadata": {},
   "outputs": [],
   "source": [
    "import numpy as np\n",
    "import matplotlib.pyplot as plt\n",
    "\n",
    "# Set the fluid properties and flow conditions\n",
    "rho = 1.0  # density\n",
    "nu = 0.005   # viscosity\n",
    "u = 1.0    # velocity\n",
    "L = 4.0    # length\n",
    "gamma = 1.66  # adiabatic index\n",
    "\n",
    "# Set the number of grid points and the grid spacing\n",
    "nx = 201\n",
    "dx = L / nx\n",
    "\n",
    "# Set the timestep size and the number of timesteps\n",
    "# dt = 0.001\n",
    "t_final = 2.0\n",
    "\n",
    "nt = 31000  # maximum number of timesteps"
   ]
  },
  {
   "cell_type": "code",
   "execution_count": 24,
   "id": "284808df",
   "metadata": {},
   "outputs": [
    {
     "data": {
      "text/plain": [
       "Text(0.5, 0, 'Grid Point')"
      ]
     },
     "execution_count": 24,
     "metadata": {},
     "output_type": "execute_result"
    },
    {
     "data": {
      "image/png": "[encoded data removed]",
      "text/plain": [
       "<Figure size 1200x500 with 2 Axes>"
      ]
     },
     "metadata": {},
     "output_type": "display_data"
    }
   ],
   "source": [
    "# Set the initial velocity and density\n",
    "u_initial = np.zeros(nx)\n",
    "rho_initial = np.zeros(nx)\n",
    "# Continuous (Gaussian) function for density in the middle\n",
    "x = np.linspace(0, L, nx)\n",
    "center = L / 2\n",
    "width = L / 40\n",
    "# rho_initial = 0.5 * (2-np.tanh((np.abs(x - center)) / width))\n",
    "\n",
    "# Step function for density in the middle\n",
    "rho_initial = np.where(\n",
    "    np.abs(x - center) < width / 2,\n",
    "    1.0,   # value inside the step\n",
    "    0.01    # value outside the step\n",
    ")\n",
    "\n",
    "## Plot the initial conditions\n",
    "plt.figure(figsize=(12, 5))\n",
    "plt.subplot(1, 2, 1)\n",
    "plt.plot(u_initial, label='Velocity')\n",
    "plt.title('Initial Velocity')\n",
    "plt.xlabel('Grid Point')\n",
    "plt.ylabel('Velocity')\n",
    "plt.legend()\n",
    "plt.subplot(1, 2, 2)\n",
    "plt.plot(rho_initial, label='Density', color='orange')\n",
    "plt.title('Initial density')\n",
    "plt.xlabel('Grid Point')\n"
   ]
  },
  {
   "cell_type": "code",
   "execution_count": null,
   "id": "6bfbc3e8",
   "metadata": {},
   "outputs": [],
   "source": [
    "# Create arrays to store the solution at each timestep\n",
    "u_solution = np.zeros((nt, nx))\n",
    "rho_solution = np.zeros((nt, nx))\n",
    "\n",
    "p_solution = np.zeros(nx)\n",
    "\n",
    "# Set the initial conditions\n",
    "u_solution[0] = u_initial\n",
    "rho_solution[0] = rho_initial\n",
    "\n",
    "epsilon = 1e-4  # small value to prevent division by zero\n",
    "\n",
    "t_series = np.zeros(nt)\n",
    "\n",
    "# Solve the Navier-Stokes equation using the finite difference method\n",
    "for iii in range(nt - 1):\n",
    "\n",
    "    dt = min(0.2 * dx / np.max(np.abs(u_solution[iii]) + epsilon), 0.2* dx*dx/(nu+epsilon),  0.0001)  # CFL (Courant–Friedrichs–Lewy) condition for convergence of this PDE\n",
    "    t_series[iii+1] = t_series[iii] + dt\n",
    "    t = t_series[iii]\n",
    "    p_solution = np.array(rho_solution[iii]) ** gamma\n",
    "\n",
    "    # Update velocity\n",
    "    for i in range(1, nx - 1):\n",
    "        ## Density can be zero, so I take an average of three nearby densities so nothing bad happens at the jump\n",
    "        u_solution[iii + 1, i] = (\n",
    "            u_solution[iii, i]\n",
    "            - dt * u_solution[iii, i] * (u_solution[iii, i + 1] - u_solution[iii, i - 1]) / (2 * dx)\n",
    "            - 3 * dt / ((rho_solution[iii, i - 1] + rho_solution[iii, i] + rho_solution[iii, i + 1]) * 2 * dx) * (p_solution[i+1] - p_solution[i - 1])\n",
    "            + nu * dt / dx**2 * (u_solution[iii, i + 1] - 2 * u_solution[iii, i] + u_solution[iii, i - 1])\n",
    "        )\n",
    "\n",
    "    # Periodic boundary conditions for velocity\n",
    "    u_solution[iii + 1, 0] = u_solution[iii + 1, -2]\n",
    "    u_solution[iii + 1, -1] = u_solution[iii + 1, 1]\n",
    "\n",
    "    # Update density using upwind scheme\n",
    "    for i in range(1, nx - 1):\n",
    "        # Upwind: choose direction based on velocity\n",
    "        if u_solution[iii, i] > 0:\n",
    "            flux = u_solution[iii, i] * rho_solution[iii, i]\n",
    "            flux_prev = u_solution[iii, i - 1] * rho_solution[iii, i - 1]\n",
    "        else:\n",
    "            flux = u_solution[iii, i + 1] * rho_solution[iii, i + 1]\n",
    "            flux_prev = u_solution[iii, i] * rho_solution[iii, i]\n",
    "\n",
    "        rho_solution[iii + 1, i] = (\n",
    "            rho_solution[iii, i]\n",
    "            - dt / dx * (flux - flux_prev)\n",
    "        )\n",
    "\n",
    "    # Periodic boundary conditions for density\n",
    "    rho_solution[iii + 1, 0] = rho_solution[iii + 1, -2]\n",
    "    rho_solution[iii + 1, -1] = rho_solution[iii + 1, 1]\n",
    "\n",
    "    # Warn if any density becomes negative or zero and show positions\n",
    "    negative_density_number = np.where(rho_solution[iii + 1] < 0)[0]\n",
    "    if negative_density_number.size > 0:\n",
    "        print(f\"Warning: Density <= 0 detected at timestep {t+1} at positions {negative_density_number}\")\n",
    "        break\n",
    "    if t > t_final:\n",
    "        print(f\"Reached final time at timestep {iii+1}, t = {t}\")\n",
    "        final_time_index = iii + 1\n",
    "        break\n",
    "\n",
    "# Plot the velocity solution\n",
    "plt.plot(u_solution[final_time_index])\n",
    "plt.xlabel(\"Grid point\")\n",
    "plt.ylabel(\"Velocity\")\n",
    "plt.show()\n",
    "\n",
    "# Plot the pressure solution\n",
    "plt.plot(rho_solution[final_time_index])\n",
    "plt.xlabel(\"Grid point\")\n",
    "plt.ylabel(\"Density\")\n",
    "plt.show()"
   ]
  },
  {
   "cell_type": "code",
   "execution_count": null,
   "id": "8b753195",
   "metadata": {},
   "outputs": [
    {
     "data": {
      "text/plain": [
       "20002"
      ]
     },
     "execution_count": 19,
     "metadata": {},
     "output_type": "execute_result"
    }
   ],
   "source": [
    "final_time_index"
   ]
  },
  {
   "cell_type": "code",
   "execution_count": null,
   "id": "fb439f97",
   "metadata": {},
   "outputs": [
    {
     "data": {
      "text/plain": [
       "0.4910354504479173"
      ]
     },
     "execution_count": 20,
     "metadata": {},
     "output_type": "execute_result"
    }
   ],
   "source": [
    "t"
   ]
  },
  {
   "cell_type": "code",
   "execution_count": null,
   "id": "0ce60ce2",
   "metadata": {},
   "outputs": [
    {
     "data": {
      "application/vnd.jupyter.widget-view+json": {
       "model_id": "a2515afceac34f65bed74abe0030e6a4",
       "version_major": 2,
       "version_minor": 0
      },
      "text/plain": [
       "interactive(children=(IntSlider(value=0, description='Time Index', max=20001), Output()), _dom_classes=('widge…"
      ]
     },
     "metadata": {},
     "output_type": "display_data"
    },
    {
     "data": {
      "text/plain": [
       "<function __main__.plot_u_rho(time_idx)>"
      ]
     },
     "execution_count": 21,
     "metadata": {},
     "output_type": "execute_result"
    }
   ],
   "source": [
    "import matplotlib.pyplot as plt\n",
    "import ipywidgets as widgets\n",
    "from IPython.display import display\n",
    "\n",
    "# Ensure final_time_index is defined\n",
    "try:\n",
    "    final_time_index\n",
    "except NameError:\n",
    "    final_time_index = nt\n",
    "\n",
    "space = np.arange(u_solution.shape[1])\n",
    "\n",
    "def plot_u_rho(time_idx):\n",
    "    fig, axs = plt.subplots(3, 1, figsize=(4, 6), sharex=True)\n",
    "    # 1. Velocity\n",
    "    axs[0].plot(space, u_solution[time_idx], lw=2)\n",
    "    axs[0].set_ylabel('Velocity (u)')\n",
    "    axs[0].set_title(f'Velocity Profile (Time Index: {t_series[time_idx]})')\n",
    "    # 2. Second derivative of velocity\n",
    "    u = u_solution[time_idx]\n",
    "    d2u_dx2 = np.zeros_like(u)\n",
    "    d2u_dx2[1:-1] = (u[2:] - 2 * u[1:-1] + u[:-2]) / dx**2\n",
    "    d2u_dx2[0] = (u[1] - 2 * u[0] + u[-2]) / dx**2\n",
    "    d2u_dx2[-1] = d2u_dx2[0]\n",
    "    axs[1].plot(space, d2u_dx2, lw=2, color='green')\n",
    "    axs[1].set_ylabel('d²u/dx²')\n",
    "    axs[1].set_title('Numerical Second Derivative of Velocity')\n",
    "    # 3. Density\n",
    "    axs[2].plot(space, rho_solution[time_idx], lw=2, color='orange')\n",
    "    axs[2].set_xlabel('Space Index')\n",
    "    axs[2].set_ylabel('Density (rho)')\n",
    "    axs[2].set_title(f'Density Profile (Time: {t_series[time_idx]})')\n",
    "\n",
    "    plt.tight_layout()\n",
    "    plt.show()\n",
    "\n",
    "slider = widgets.IntSlider(\n",
    "    value=0,\n",
    "    min=0,\n",
    "    max=final_time_index-1,\n",
    "    step=1,\n",
    "    description='Time Index'\n",
    ")\n",
    "\n",
    "widgets.interact(plot_u_rho, time_idx=slider)"
   ]
  },
  {
   "cell_type": "code",
   "execution_count": null,
   "id": "37d8fe6e",
   "metadata": {},
   "outputs": [
    {
     "data": {
      "text/plain": [
       "20002"
      ]
     },
     "execution_count": 22,
     "metadata": {},
     "output_type": "execute_result"
    }
   ],
   "source": [
    "final_time_index"
   ]
  }
 ],
 "metadata": {
  "kernelspec": {
   "display_name": "Python 3",
   "language": "python",
   "name": "python3"
  },
  "language_info": {
   "codemirror_mode": {
    "name": "ipython",
    "version": 3
   },
   "file_extension": ".py",
   "mimetype": "text/x-python",
   "name": "python",
   "nbconvert_exporter": "python",
   "pygments_lexer": "ipython3",
   "version": "3.12.3"
  }
 },
 "nbformat": 4,
 "nbformat_minor": 5
}
